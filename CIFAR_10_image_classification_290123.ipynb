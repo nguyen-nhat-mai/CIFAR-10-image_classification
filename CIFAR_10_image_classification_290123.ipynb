{
  "cells": [
    {
      "cell_type": "markdown",
      "metadata": {
        "id": "HzT-fZzFRKly"
      },
      "source": [
        "# **CIFAR-10 image classification**"
      ]
    },
    {
      "cell_type": "markdown",
      "source": [
        "### Load, pre-process and explore data"
      ],
      "metadata": {
        "id": "WHGe3lFFYlFc"
      }
    },
    {
      "cell_type": "code",
      "execution_count": 1,
      "metadata": {
        "id": "5KyVunArRKl-"
      },
      "outputs": [],
      "source": [
        "# Import libraries\n",
        "import json \n",
        "from pprint import pprint\n",
        "import torch\n",
        "import torchvision\n",
        "import torchvision.transforms as transforms\n",
        "import numpy as np\n",
        "import pandas as pd\n",
        "from mpl_toolkits.mplot3d import axes3d\n",
        "import matplotlib.pyplot as plt\n",
        "import torch\n",
        "import torch.nn as nn\n",
        "import torch.nn.functional as F"
      ]
    },
    {
      "cell_type": "code",
      "source": [
        "# Load data\n",
        "transform_train = transforms.Compose([\n",
        "    transforms.ToTensor(),\n",
        "    transforms.Normalize((0.49139968,0.48215841,0.44653091), (0.24703223,0.24348513,0.26158784)),\n",
        "])\n",
        "\n",
        "transform_test = transforms.Compose([transforms.ToTensor(),\n",
        "                                     transforms.Normalize((0.49139968,0.48215841,0.44653091), (0.24703223,0.24348513,0.26158784)),\n",
        "                                     ])\n",
        "\n",
        "batch_size=32\n",
        "trainset = torchvision.datasets.CIFAR10(root='./data', train=True, download=True, transform=transform_train)\n",
        "train_dataloader = torch.utils.data.DataLoader(trainset, batch_size=batch_size , shuffle=True)\n",
        "\n",
        "testset = torchvision.datasets.CIFAR10(root='./data', train=False, download=True, transform=transform_test)\n",
        "val_dataloader = torch.utils.data.DataLoader(testset, batch_size= batch_size, shuffle=False)"
      ],
      "metadata": {
        "colab": {
          "base_uri": "https://localhost:8080/",
          "height": 101,
          "referenced_widgets": [
            "7249a730b8ef4206b6224e37844f32a8",
            "110cfef5ccc443f2903bc849fbcb762b",
            "94ccac875871448d916c439547bb7611",
            "4f8ef6b392f3445abe73993ed4a69fa1",
            "84142da002e74851b531c1543356c6d6",
            "15a2b06193b2481f9b84cd382fc630dc",
            "47948ac753ec4e1dac35fe84da2f99f4",
            "bf3bd40bfac4444c952f69bd55560c6e",
            "d62e8cf9cb2a4a71b8671b600f302ff2",
            "eec65a0709964cf9b88772b68cda8c29",
            "e7b444f9fc9a4ea3a89d3cbd68854544"
          ]
        },
        "id": "wDPfRQNqnXM1",
        "outputId": "f6c0b6d8-d39c-4477-ed22-74e8a162ec62"
      },
      "execution_count": 2,
      "outputs": [
        {
          "output_type": "stream",
          "name": "stdout",
          "text": [
            "Downloading https://www.cs.toronto.edu/~kriz/cifar-10-python.tar.gz to ./data/cifar-10-python.tar.gz\n"
          ]
        },
        {
          "output_type": "display_data",
          "data": {
            "text/plain": [
              "  0%|          | 0/170498071 [00:00<?, ?it/s]"
            ],
            "application/vnd.jupyter.widget-view+json": {
              "version_major": 2,
              "version_minor": 0,
              "model_id": "7249a730b8ef4206b6224e37844f32a8"
            }
          },
          "metadata": {}
        },
        {
          "output_type": "stream",
          "name": "stdout",
          "text": [
            "Extracting ./data/cifar-10-python.tar.gz to ./data\n",
            "Files already downloaded and verified\n"
          ]
        }
      ]
    },
    {
      "cell_type": "code",
      "execution_count": 3,
      "metadata": {
        "colab": {
          "base_uri": "https://localhost:8080/"
        },
        "id": "lNognWjwUpmX",
        "outputId": "64cea935-ee02-4595-a054-84f63299849d"
      },
      "outputs": [
        {
          "output_type": "stream",
          "name": "stdout",
          "text": [
            "train data shape: (50000, 32, 32, 3)\n",
            "test data shape: (10000, 32, 32, 3)\n"
          ]
        }
      ],
      "source": [
        "# Check shape\n",
        "print(\"train data shape:\", trainset.data.shape)\n",
        "print(\"test data shape:\",testset.data.shape)"
      ]
    },
    {
      "cell_type": "code",
      "source": [
        "# Label dictionary\n",
        "label_dict = {0:\"airplane\",1:\"automobile\",2:\"bird\",3:\"cat\",4:\"deer\",5:\"dog\",6:\"frog\",7:\"horse\",8:\"ship\",9:\"truck\"}"
      ],
      "metadata": {
        "id": "XlCPp7qrhpLb"
      },
      "execution_count": 4,
      "outputs": []
    },
    {
      "cell_type": "code",
      "source": [
        "# Plot random images\n",
        "image_idx = [0,1001,3550,12310,31674,42763,2,3,4,5,6,7]\n",
        "fig = plt.figure(figsize=(18,6))\n",
        "fig.subplots_adjust(hspace=0.1, wspace=0.5)\n",
        "\n",
        "for i in range(len(image_idx)):\n",
        "  img_index = image_idx[i]\n",
        "  # Load image at index img_index\n",
        "  rgb_img = trainset.data[img_index]\n",
        "  rgb_img = rgb_img.astype('float32')    \n",
        "  rgb_img/= 255.0\n",
        "\n",
        "  # Plot\n",
        "  ax = fig.add_subplot(2, 6, i+1)\n",
        "  ax = plt.imshow(rgb_img)\n",
        "  ax = plt.title(f'{trainset.targets[img_index]}: {label_dict[trainset.targets[img_index]]}')"
      ],
      "metadata": {
        "colab": {
          "base_uri": "https://localhost:8080/",
          "height": 353
        },
        "id": "foJTb65ngm05",
        "outputId": "0f8a2e42-2e52-4bd6-8197-b268840f60f3"
      },
      "execution_count": 5,
      "outputs": [
        {
          "output_type": "display_data",
          "data": {
            "text/plain": [
              "<Figure size 1296x432 with 12 Axes>"
            ],
            "image/png": "[encoded data removed]"
          },
          "metadata": {
            "needs_background": "light"
          }
        }
      ]
    },
    {
      "cell_type": "markdown",
      "source": [
        "### Set up & functions"
      ],
      "metadata": {
        "id": "1PWU6WoZvRiZ"
      }
    },
    {
      "cell_type": "code",
      "source": [
        "# Connect to drive to save models\n",
        "from google.colab import drive\n",
        "drive.mount('/content/gdrive')\n",
        "!pwd"
      ],
      "metadata": {
        "colab": {
          "base_uri": "https://localhost:8080/"
        },
        "id": "iRhvaKxNZpwn",
        "outputId": "d114972d-1055-40df-d78d-b01dbe5ffc2b"
      },
      "execution_count": 9,
      "outputs": [
        {
          "output_type": "stream",
          "name": "stdout",
          "text": [
            "Drive already mounted at /content/gdrive; to attempt to forcibly remount, call drive.mount(\"/content/gdrive\", force_remount=True).\n",
            "/content\n"
          ]
        }
      ]
    },
    {
      "cell_type": "code",
      "execution_count": 7,
      "metadata": {
        "colab": {
          "base_uri": "https://localhost:8080/"
        },
        "id": "HvzLhVM4D2QC",
        "outputId": "4f430de0-9ef7-4c22-e212-25219d52dd89"
      },
      "outputs": [
        {
          "output_type": "stream",
          "name": "stdout",
          "text": [
            "Using cuda.\n",
            "Sun Jan 29 16:44:31 2023       \n",
            "+-----------------------------------------------------------------------------+\n",
            "| NVIDIA-SMI 510.47.03    Driver Version: 510.47.03    CUDA Version: 11.6     |\n",
            "|-------------------------------+----------------------+----------------------+\n",
            "| GPU  Name        Persistence-M| Bus-Id        Disp.A | Volatile Uncorr. ECC |\n",
            "| Fan  Temp  Perf  Pwr:Usage/Cap|         Memory-Usage | GPU-Util  Compute M. |\n",
            "|                               |                      |               MIG M. |\n",
            "|===============================+======================+======================|\n",
            "|   0  Tesla T4            Off  | 00000000:00:04.0 Off |                    0 |\n",
            "| N/A   42C    P0    25W /  70W |      0MiB / 15360MiB |      0%      Default |\n",
            "|                               |                      |                  N/A |\n",
            "+-------------------------------+----------------------+----------------------+\n",
            "                                                                               \n",
            "+-----------------------------------------------------------------------------+\n",
            "| Processes:                                                                  |\n",
            "|  GPU   GI   CI        PID   Type   Process name                  GPU Memory |\n",
            "|        ID   ID                                                   Usage      |\n",
            "|=============================================================================|\n",
            "|  No running processes found                                                 |\n",
            "+-----------------------------------------------------------------------------+\n"
          ]
        }
      ],
      "source": [
        "# Set up GPU\n",
        "gpu_info = !nvidia-smi\n",
        "gpu_info = '\\n'.join(gpu_info)\n",
        "if torch.cuda.is_available():\n",
        "  device = \"cuda\"\n",
        "else:\n",
        "  device = \"cpu\"\n",
        "print(f\"Using {device}.\")\n",
        "if gpu_info.find('failed') >= 0:\n",
        "  if device == \"cpu\":\n",
        "    print('Not connected to a GPU')\n",
        "else:\n",
        "  if device == \"cuda\":\n",
        "    print(gpu_info)"
      ]
    },
    {
      "cell_type": "code",
      "source": [
        "def train_validate_model(train_loader,valid_loader,model,epochs,optimizer, save_pth):\n",
        "  '''\n",
        "  Input: train & validation data, model and its parameters, path to save model\n",
        "  Output: - the model is trained and validated on the provided data\n",
        "          - training & validation accuracy & loss are recorded and returned as output\n",
        "  '''\n",
        "  train_acc = []\n",
        "  train_loss = []\n",
        "  val_acc = []\n",
        "  val_loss = []\n",
        "\n",
        "  for epoch in range(epochs):\n",
        "      # Training\n",
        "      total_train=0\n",
        "      correct_train = 0\n",
        "      for i, (images, labels) in enumerate(train_loader):  \n",
        "          # Move tensors to the configured device\n",
        "          images = images.to(device)\n",
        "          labels = labels.to(device)\n",
        "          # Forward pass\n",
        "          outputs = model(images)\n",
        "          loss = criterion(outputs, labels)\n",
        "          # Backward and optimize\n",
        "          optimizer.zero_grad()\n",
        "          loss.backward()\n",
        "          optimizer.step()\n",
        "          # Calculate train accuracy\n",
        "          _, predicted = torch.max(outputs.data, 1)\n",
        "          total_train += labels.size(0)\n",
        "          correct_train += (predicted == labels).sum().item()\n",
        "          del images, labels, outputs\n",
        "      # Record accuracy & loss\n",
        "      train_loss.append(loss.item())\n",
        "      train_acc.append(100 * correct_train / total_train)\n",
        "      print ('Epoch [{}/{}], Loss: {:.4f}, Train accuracy: {}' \n",
        "                   .format(epoch+1, epochs, loss.item(),100 * correct_train / total_train))\n",
        "            \n",
        "      # Validation\n",
        "      with torch.no_grad():\n",
        "          correct_val = 0\n",
        "          total_val = 0\n",
        "          for images, labels in valid_loader:\n",
        "              # Move tensors to the configured device\n",
        "              images = images.to(device)\n",
        "              labels = labels.to(device)\n",
        "              # Predict label\n",
        "              outputs = model(images)\n",
        "              # Calculate loss & accuracy\n",
        "              loss=criterion(outputs, labels)\n",
        "              _, predicted = torch.max(outputs.data, 1)\n",
        "              total_val += labels.size(0)\n",
        "              correct_val += (predicted == labels).sum().item()\n",
        "              del images, labels, outputs\n",
        "          # Record accuracy & loss\n",
        "          val_loss.append(loss.item())\n",
        "          val_acc.append(100 * correct_val / total_val)\n",
        "          print('Loss: {:.4f}, Validation accuracy: {} %'.format(loss.item(), 100 * correct_val / total_val))\n",
        "      # Save model by epoch \n",
        "      torch.save(model.state_dict(), f'{save_pth}/{epoch+1}epoch.pt')\n",
        "\n",
        "  return train_acc, train_loss, val_acc, val_loss"
      ],
      "metadata": {
        "id": "JN4kP-m4vZTf"
      },
      "execution_count": 20,
      "outputs": []
    },
    {
      "cell_type": "code",
      "source": [
        "def plot_acc_loss(epoch_list, train_acc, train_loss, val_acc, val_loss):\n",
        "  '''\n",
        "  Input: list of epoch number, list of training & validation accuracy & loss\n",
        "  Output: 2 graphs of loss and accuracy by epoch and train/validation\n",
        "  '''\n",
        "  f, (ax1, ax2) = plt.subplots(1,2,figsize=(15, 5))\n",
        "  # Plot loss graph\n",
        "  ax1.plot(epoch_list, train_loss, label = \"Train losses by epoch\")\n",
        "  ax1.plot(epoch_list, val_loss, label = \"Validation losses by epoch\")\n",
        "  ax1.set_xlabel(\"Epoch\")\n",
        "  ax1.set_ylabel(\"Cross entrophy loss\")\n",
        "  ax1.legend()\n",
        "  # Plot accuracy graph\n",
        "  ax2.plot(epoch_list, train_acc, label = \"Train accuracy by epoch\")\n",
        "  ax2.plot(epoch_list, val_acc, label = \"Validation accuracy by epoch\")\n",
        "  ax2.set_xlabel(\"Epoch\")\n",
        "  ax2.set_ylabel(\"Accuracy score\")\n",
        "  ax2.legend()"
      ],
      "metadata": {
        "id": "GWkGToZqt-wM"
      },
      "execution_count": 33,
      "outputs": []
    },
    {
      "cell_type": "markdown",
      "metadata": {
        "id": "3S-ITJo9RKmA"
      },
      "source": [
        "### 1. VGG16"
      ]
    },
    {
      "cell_type": "code",
      "execution_count": 37,
      "metadata": {
        "id": "9hb1skoXRKmA"
      },
      "outputs": [],
      "source": [
        "# Define VGG16 network\n",
        "class VGG16(nn.Module):\n",
        "    def __init__(self,num_classes=10):\n",
        "        super(VGG16, self).__init__()\n",
        "        \n",
        "        self.layer1 = nn.Sequential(\n",
        "            nn.Conv2d(3, 64, kernel_size=3, stride=1, padding=1),\n",
        "            nn.BatchNorm2d(64),\n",
        "            nn.ReLU())\n",
        "        self.layer2 = nn.Sequential(\n",
        "            nn.Conv2d(64, 64, kernel_size=3, stride=1, padding=1),\n",
        "            nn.BatchNorm2d(64),\n",
        "            nn.ReLU(), \n",
        "            nn.MaxPool2d(kernel_size = 2, stride = 2))\n",
        "        self.layer3 = nn.Sequential(\n",
        "            nn.Conv2d(64, 128, kernel_size=3, stride=1, padding=1),\n",
        "            nn.BatchNorm2d(128),\n",
        "            nn.ReLU())\n",
        "        self.layer4 = nn.Sequential(\n",
        "            nn.Conv2d(128, 128, kernel_size=3, stride=1, padding=1),\n",
        "            nn.BatchNorm2d(128),\n",
        "            nn.ReLU(),\n",
        "            nn.MaxPool2d(kernel_size = 2, stride = 2))\n",
        "        self.layer5 = nn.Sequential(\n",
        "            nn.Conv2d(128, 256, kernel_size=3, stride=1, padding=1),\n",
        "            nn.BatchNorm2d(256),\n",
        "            nn.ReLU())\n",
        "        self.layer6 = nn.Sequential(\n",
        "            nn.Conv2d(256, 256, kernel_size=3, stride=1, padding=1),\n",
        "            nn.BatchNorm2d(256),\n",
        "            nn.ReLU())\n",
        "        self.layer7 = nn.Sequential(\n",
        "            nn.Conv2d(256, 256, kernel_size=3, stride=1, padding=1),\n",
        "            nn.BatchNorm2d(256),\n",
        "            nn.ReLU(),\n",
        "            nn.MaxPool2d(kernel_size = 2, stride = 2))\n",
        "        self.layer8 = nn.Sequential(\n",
        "            nn.Conv2d(256, 512, kernel_size=3, stride=1, padding=1),\n",
        "            nn.BatchNorm2d(512),\n",
        "            nn.ReLU())\n",
        "        self.layer9 = nn.Sequential(\n",
        "            nn.Conv2d(512, 512, kernel_size=3, stride=1, padding=1),\n",
        "            nn.BatchNorm2d(512),\n",
        "            nn.ReLU())\n",
        "        self.layer10 = nn.Sequential(\n",
        "            nn.Conv2d(512, 512, kernel_size=3, stride=1, padding=1),\n",
        "            nn.BatchNorm2d(512),\n",
        "            nn.ReLU(),\n",
        "            nn.MaxPool2d(kernel_size = 2, stride = 2))\n",
        "        self.layer11 = nn.Sequential(\n",
        "            nn.Conv2d(512, 512, kernel_size=3, stride=1, padding=1),\n",
        "            nn.BatchNorm2d(512),\n",
        "            nn.ReLU())\n",
        "        self.layer12 = nn.Sequential(\n",
        "            nn.Conv2d(512, 512, kernel_size=3, stride=1, padding=1),\n",
        "            nn.BatchNorm2d(512),\n",
        "            nn.ReLU())\n",
        "        self.layer13 = nn.Sequential(\n",
        "            nn.Conv2d(512, 512, kernel_size=3, stride=1, padding=1),\n",
        "            nn.BatchNorm2d(512),\n",
        "            nn.ReLU(),\n",
        "            nn.MaxPool2d(kernel_size = 2, stride = 2))\n",
        "        self.fc = nn.Sequential(\n",
        "            nn.Dropout(0.5),\n",
        "            nn.Linear(1*1*512, 4096),\n",
        "            nn.ReLU())\n",
        "        self.fc1 = nn.Sequential(\n",
        "            nn.Dropout(0.5),\n",
        "            nn.Linear(4096, 4096),\n",
        "            nn.ReLU())\n",
        "        self.fc2= nn.Sequential(\n",
        "            nn.Linear(4096, num_classes))\n",
        "        \n",
        "    def forward(self, x):\n",
        "        out = self.layer1(x)\n",
        "        out = self.layer2(out) # 16x16\n",
        "        out = self.layer3(out)\n",
        "        out = self.layer4(out) # 8x8\n",
        "        out = self.layer5(out)\n",
        "        out = self.layer6(out)\n",
        "        out = self.layer7(out) # 4x4\n",
        "        out = self.layer8(out)\n",
        "        out = self.layer9(out)\n",
        "        out = self.layer10(out) # 2x2\n",
        "        out = self.layer11(out)\n",
        "        out = self.layer12(out)\n",
        "        out = self.layer13(out) # 1x1\n",
        "        out = out.reshape(out.size(0), -1)\n",
        "        out = self.fc(out)\n",
        "        out = self.fc1(out)\n",
        "        out = self.fc2(out)\n",
        "        return out"
      ]
    },
    {
      "cell_type": "code",
      "source": [
        "# Define model parameters\n",
        "lr = 0.001\n",
        "epochs = 15\n",
        "model = VGG16(10).to(device)\n",
        "criterion = nn.CrossEntropyLoss()\n",
        "optimizer = torch.optim.SGD(model.parameters(), lr=lr, momentum = 0.9)\n",
        "save_path = 'gdrive/MyDrive/Portfolio/CIFAR-10 image classification/VGG16'"
      ],
      "metadata": {
        "id": "Y-wV6lrqavsQ"
      },
      "execution_count": 40,
      "outputs": []
    },
    {
      "cell_type": "code",
      "source": [
        "# Train the model\n",
        "vgg16_train_acc, vgg16_train_loss, vgg16_val_acc, vgg16_val_loss = train_validate_model(train_dataloader,val_dataloader,model,epochs,optimizer, save_path)"
      ],
      "metadata": {
        "colab": {
          "base_uri": "https://localhost:8080/"
        },
        "id": "GOhhbDkxcRtZ",
        "outputId": "312276df-00a0-40b2-b828-e392b85c06e7"
      },
      "execution_count": 41,
      "outputs": [
        {
          "output_type": "stream",
          "name": "stdout",
          "text": [
            "Epoch [1/15], Loss: 0.9568, Train accuracy: 49.014\n",
            "Loss: 1.0215, Validation accuracy: 64.33 %\n",
            "Epoch [2/15], Loss: 0.6904, Train accuracy: 70.464\n",
            "Loss: 1.0359, Validation accuracy: 73.99 %\n",
            "Epoch [3/15], Loss: 0.7710, Train accuracy: 78.33\n",
            "Loss: 1.3009, Validation accuracy: 76.32 %\n",
            "Epoch [4/15], Loss: 0.3356, Train accuracy: 83.39\n",
            "Loss: 0.8442, Validation accuracy: 79.13 %\n",
            "Epoch [5/15], Loss: 0.3401, Train accuracy: 86.816\n",
            "Loss: 1.0174, Validation accuracy: 80.78 %\n",
            "Epoch [6/15], Loss: 0.4441, Train accuracy: 89.544\n",
            "Loss: 1.1195, Validation accuracy: 80.14 %\n",
            "Epoch [7/15], Loss: 0.1811, Train accuracy: 91.53\n",
            "Loss: 0.6870, Validation accuracy: 80.95 %\n",
            "Epoch [8/15], Loss: 0.0869, Train accuracy: 93.258\n",
            "Loss: 1.1686, Validation accuracy: 81.76 %\n",
            "Epoch [9/15], Loss: 0.0444, Train accuracy: 94.574\n",
            "Loss: 0.8731, Validation accuracy: 82.15 %\n",
            "Epoch [10/15], Loss: 0.0993, Train accuracy: 95.704\n",
            "Loss: 0.7343, Validation accuracy: 81.27 %\n",
            "Epoch [11/15], Loss: 0.4986, Train accuracy: 96.196\n",
            "Loss: 1.8697, Validation accuracy: 82.04 %\n",
            "Epoch [12/15], Loss: 0.1012, Train accuracy: 96.99\n",
            "Loss: 1.0054, Validation accuracy: 81.33 %\n",
            "Epoch [13/15], Loss: 0.4233, Train accuracy: 97.368\n",
            "Loss: 1.3592, Validation accuracy: 82.34 %\n",
            "Epoch [14/15], Loss: 0.3080, Train accuracy: 97.898\n",
            "Loss: 1.6773, Validation accuracy: 81.97 %\n",
            "Epoch [15/15], Loss: 0.0043, Train accuracy: 98.27\n",
            "Loss: 1.6141, Validation accuracy: 83.15 %\n"
          ]
        }
      ]
    },
    {
      "cell_type": "code",
      "source": [
        "# Plot loss and accuracy plot\n",
        "epoch_list = []\n",
        "for epoch in range(epochs):\n",
        "  epoch_list.append(epoch)\n",
        "\n",
        "plot_acc_loss(epoch_list, vgg16_train_acc, vgg16_train_loss, vgg16_val_acc, vgg16_val_loss)"
      ],
      "metadata": {
        "colab": {
          "base_uri": "https://localhost:8080/",
          "height": 334
        },
        "id": "JoLO6vSrsSfb",
        "outputId": "c8d478dd-4094-4b9d-bac9-268d546d69cb"
      },
      "execution_count": 42,
      "outputs": [
        {
          "output_type": "display_data",
          "data": {
            "text/plain": [
              "<Figure size 1080x360 with 2 Axes>"
            ],
            "image/png": "[encoded data removed]"
          },
          "metadata": {
            "needs_background": "light"
          }
        }
      ]
    },
    {
      "cell_type": "code",
      "source": [
        "# Parameters to tune"
      ],
      "metadata": {
        "id": "_reH29mw0-PX"
      },
      "execution_count": null,
      "outputs": []
    }
  ],
  "metadata": {
    "colab": {
      "collapsed_sections": [
        "lCX0xLejRKl9",
        "3S-ITJo9RKmA",
        "1oCW4FGORKmC",
        "cIAwvLE7RKmD",
        "J7B9gOlwbYny",
        "1Kp8nRiGRKmF",
        "4dfeLUNQVm-k",
        "KBVnNbx7XHXo",
        "NEoZyhgZRKmK",
        "JNtKYgzTRKmM",
        "qmogb4BZqanY"
      ],
      "provenance": []
    },
    "gpuClass": "standard",
    "kernelspec": {
      "display_name": "Python 3 (ipykernel)",
      "language": "python",
      "name": "python3"
    },
    "language_info": {
      "codemirror_mode": {
        "name": "ipython",
        "version": 3
      },
      "file_extension": ".py",
      "mimetype": "text/x-python",
      "name": "python",
      "nbconvert_exporter": "python",
      "pygments_lexer": "ipython3",
      "version": "3.9.5"
    },
    "widgets": {
      "application/vnd.jupyter.widget-state+json": {
        "7249a730b8ef4206b6224e37844f32a8": {
          "model_module": "@jupyter-widgets/controls",
          "model_name": "HBoxModel",
          "model_module_version": "1.5.0",
          "state": {
            "_dom_classes": [],
            "_model_module": "@jupyter-widgets/controls",
            "_model_module_version": "1.5.0",
            "_model_name": "HBoxModel",
            "_view_count": null,
            "_view_module": "@jupyter-widgets/controls",
            "_view_module_version": "1.5.0",
            "_view_name": "HBoxView",
            "box_style": "",
            "children": [
              "IPY_MODEL_110cfef5ccc443f2903bc849fbcb762b",
              "IPY_MODEL_94ccac875871448d916c439547bb7611",
              "IPY_MODEL_4f8ef6b392f3445abe73993ed4a69fa1"
            ],
            "layout": "IPY_MODEL_84142da002e74851b531c1543356c6d6"
          }
        },
        "110cfef5ccc443f2903bc849fbcb762b": {
          "model_module": "@jupyter-widgets/controls",
          "model_name": "HTMLModel",
          "model_module_version": "1.5.0",
          "state": {
            "_dom_classes": [],
            "_model_module": "@jupyter-widgets/controls",
            "_model_module_version": "1.5.0",
            "_model_name": "HTMLModel",
            "_view_count": null,
            "_view_module": "@jupyter-widgets/controls",
            "_view_module_version": "1.5.0",
            "_view_name": "HTMLView",
            "description": "",
            "description_tooltip": null,
            "layout": "IPY_MODEL_15a2b06193b2481f9b84cd382fc630dc",
            "placeholder": "​",
            "style": "IPY_MODEL_47948ac753ec4e1dac35fe84da2f99f4",
            "value": "100%"
          }
        },
        "94ccac875871448d916c439547bb7611": {
          "model_module": "@jupyter-widgets/controls",
          "model_name": "FloatProgressModel",
          "model_module_version": "1.5.0",
          "state": {
            "_dom_classes": [],
            "_model_module": "@jupyter-widgets/controls",
            "_model_module_version": "1.5.0",
            "_model_name": "FloatProgressModel",
            "_view_count": null,
            "_view_module": "@jupyter-widgets/controls",
            "_view_module_version": "1.5.0",
            "_view_name": "ProgressView",
            "bar_style": "success",
            "description": "",
            "description_tooltip": null,
            "layout": "IPY_MODEL_bf3bd40bfac4444c952f69bd55560c6e",
            "max": 170498071,
            "min": 0,
            "orientation": "horizontal",
            "style": "IPY_MODEL_d62e8cf9cb2a4a71b8671b600f302ff2",
            "value": 170498071
          }
        },
        "4f8ef6b392f3445abe73993ed4a69fa1": {
          "model_module": "@jupyter-widgets/controls",
          "model_name": "HTMLModel",
          "model_module_version": "1.5.0",
          "state": {
            "_dom_classes": [],
            "_model_module": "@jupyter-widgets/controls",
            "_model_module_version": "1.5.0",
            "_model_name": "HTMLModel",
            "_view_count": null,
            "_view_module": "@jupyter-widgets/controls",
            "_view_module_version": "1.5.0",
            "_view_name": "HTMLView",
            "description": "",
            "description_tooltip": null,
            "layout": "IPY_MODEL_eec65a0709964cf9b88772b68cda8c29",
            "placeholder": "​",
            "style": "IPY_MODEL_e7b444f9fc9a4ea3a89d3cbd68854544",
            "value": " 170498071/170498071 [00:13&lt;00:00, 14617409.34it/s]"
          }
        },
        "84142da002e74851b531c1543356c6d6": {
          "model_module": "@jupyter-widgets/base",
          "model_name": "LayoutModel",
          "model_module_version": "1.2.0",
          "state": {
            "_model_module": "@jupyter-widgets/base",
            "_model_module_version": "1.2.0",
            "_model_name": "LayoutModel",
            "_view_count": null,
            "_view_module": "@jupyter-widgets/base",
            "_view_module_version": "1.2.0",
            "_view_name": "LayoutView",
            "align_content": null,
            "align_items": null,
            "align_self": null,
            "border": null,
            "bottom": null,
            "display": null,
            "flex": null,
            "flex_flow": null,
            "grid_area": null,
            "grid_auto_columns": null,
            "grid_auto_flow": null,
            "grid_auto_rows": null,
            "grid_column": null,
            "grid_gap": null,
            "grid_row": null,
            "grid_template_areas": null,
            "grid_template_columns": null,
            "grid_template_rows": null,
            "height": null,
            "justify_content": null,
            "justify_items": null,
            "left": null,
            "margin": null,
            "max_height": null,
            "max_width": null,
            "min_height": null,
            "min_width": null,
            "object_fit": null,
            "object_position": null,
            "order": null,
            "overflow": null,
            "overflow_x": null,
            "overflow_y": null,
            "padding": null,
            "right": null,
            "top": null,
            "visibility": null,
            "width": null
          }
        },
        "15a2b06193b2481f9b84cd382fc630dc": {
          "model_module": "@jupyter-widgets/base",
          "model_name": "LayoutModel",
          "model_module_version": "1.2.0",
          "state": {
            "_model_module": "@jupyter-widgets/base",
            "_model_module_version": "1.2.0",
            "_model_name": "LayoutModel",
            "_view_count": null,
            "_view_module": "@jupyter-widgets/base",
            "_view_module_version": "1.2.0",
            "_view_name": "LayoutView",
            "align_content": null,
            "align_items": null,
            "align_self": null,
            "border": null,
            "bottom": null,
            "display": null,
            "flex": null,
            "flex_flow": null,
            "grid_area": null,
            "grid_auto_columns": null,
            "grid_auto_flow": null,
            "grid_auto_rows": null,
            "grid_column": null,
            "grid_gap": null,
            "grid_row": null,
            "grid_template_areas": null,
            "grid_template_columns": null,
            "grid_template_rows": null,
            "height": null,
            "justify_content": null,
            "justify_items": null,
            "left": null,
            "margin": null,
            "max_height": null,
            "max_width": null,
            "min_height": null,
            "min_width": null,
            "object_fit": null,
            "object_position": null,
            "order": null,
            "overflow": null,
            "overflow_x": null,
            "overflow_y": null,
            "padding": null,
            "right": null,
            "top": null,
            "visibility": null,
            "width": null
          }
        },
        "47948ac753ec4e1dac35fe84da2f99f4": {
          "model_module": "@jupyter-widgets/controls",
          "model_name": "DescriptionStyleModel",
          "model_module_version": "1.5.0",
          "state": {
            "_model_module": "@jupyter-widgets/controls",
            "_model_module_version": "1.5.0",
            "_model_name": "DescriptionStyleModel",
            "_view_count": null,
            "_view_module": "@jupyter-widgets/base",
            "_view_module_version": "1.2.0",
            "_view_name": "StyleView",
            "description_width": ""
          }
        },
        "bf3bd40bfac4444c952f69bd55560c6e": {
          "model_module": "@jupyter-widgets/base",
          "model_name": "LayoutModel",
          "model_module_version": "1.2.0",
          "state": {
            "_model_module": "@jupyter-widgets/base",
            "_model_module_version": "1.2.0",
            "_model_name": "LayoutModel",
            "_view_count": null,
            "_view_module": "@jupyter-widgets/base",
            "_view_module_version": "1.2.0",
            "_view_name": "LayoutView",
            "align_content": null,
            "align_items": null,
            "align_self": null,
            "border": null,
            "bottom": null,
            "display": null,
            "flex": null,
            "flex_flow": null,
            "grid_area": null,
            "grid_auto_columns": null,
            "grid_auto_flow": null,
            "grid_auto_rows": null,
            "grid_column": null,
            "grid_gap": null,
            "grid_row": null,
            "grid_template_areas": null,
            "grid_template_columns": null,
            "grid_template_rows": null,
            "height": null,
            "justify_content": null,
            "justify_items": null,
            "left": null,
            "margin": null,
            "max_height": null,
            "max_width": null,
            "min_height": null,
            "min_width": null,
            "object_fit": null,
            "object_position": null,
            "order": null,
            "overflow": null,
            "overflow_x": null,
            "overflow_y": null,
            "padding": null,
            "right": null,
            "top": null,
            "visibility": null,
            "width": null
          }
        },
        "d62e8cf9cb2a4a71b8671b600f302ff2": {
          "model_module": "@jupyter-widgets/controls",
          "model_name": "ProgressStyleModel",
          "model_module_version": "1.5.0",
          "state": {
            "_model_module": "@jupyter-widgets/controls",
            "_model_module_version": "1.5.0",
            "_model_name": "ProgressStyleModel",
            "_view_count": null,
            "_view_module": "@jupyter-widgets/base",
            "_view_module_version": "1.2.0",
            "_view_name": "StyleView",
            "bar_color": null,
            "description_width": ""
          }
        },
        "eec65a0709964cf9b88772b68cda8c29": {
          "model_module": "@jupyter-widgets/base",
          "model_name": "LayoutModel",
          "model_module_version": "1.2.0",
          "state": {
            "_model_module": "@jupyter-widgets/base",
            "_model_module_version": "1.2.0",
            "_model_name": "LayoutModel",
            "_view_count": null,
            "_view_module": "@jupyter-widgets/base",
            "_view_module_version": "1.2.0",
            "_view_name": "LayoutView",
            "align_content": null,
            "align_items": null,
            "align_self": null,
            "border": null,
            "bottom": null,
            "display": null,
            "flex": null,
            "flex_flow": null,
            "grid_area": null,
            "grid_auto_columns": null,
            "grid_auto_flow": null,
            "grid_auto_rows": null,
            "grid_column": null,
            "grid_gap": null,
            "grid_row": null,
            "grid_template_areas": null,
            "grid_template_columns": null,
            "grid_template_rows": null,
            "height": null,
            "justify_content": null,
            "justify_items": null,
            "left": null,
            "margin": null,
            "max_height": null,
            "max_width": null,
            "min_height": null,
            "min_width": null,
            "object_fit": null,
            "object_position": null,
            "order": null,
            "overflow": null,
            "overflow_x": null,
            "overflow_y": null,
            "padding": null,
            "right": null,
            "top": null,
            "visibility": null,
            "width": null
          }
        },
        "e7b444f9fc9a4ea3a89d3cbd68854544": {
          "model_module": "@jupyter-widgets/controls",
          "model_name": "DescriptionStyleModel",
          "model_module_version": "1.5.0",
          "state": {
            "_model_module": "@jupyter-widgets/controls",
            "_model_module_version": "1.5.0",
            "_model_name": "DescriptionStyleModel",
            "_view_count": null,
            "_view_module": "@jupyter-widgets/base",
            "_view_module_version": "1.2.0",
            "_view_name": "StyleView",
            "description_width": ""
          }
        }
      }
    },
    "accelerator": "GPU"
  },
  "nbformat": 4,
  "nbformat_minor": 0
}